{
 "cells": [
  {
   "cell_type": "markdown",
   "id": "fbe8b7a6",
   "metadata": {},
   "source": [
    "# Calculating sea ice extent\n",
    "\n",
    "> history \\| Create August 2023 <br/>\n",
    "\n",
    "<a href=\"https://polarwatch.noaa.gov/\" target=\"_blank\">NOAA PolarWatch</a> distributes gridded and tabular oceanographic data for polar regions. Many of the PolarWatch data products include sea ice related satellite data.  \n",
    "\n",
    "Sea ice extent describes the area of ice coverage at a given time.  It is calculated using sea ice concentration data, and plays an important role as an environmental indicator to climate research. \n",
    "\n",
    "\n",
    "In this exercise, we will learn to calculate sea ice extent using sea ice concentration data (<a href=\"https://nsidc.org/learn/ask-scientist/what-difference-between-sea-ice-area-and-extent#:~:text=But%20NSIDC%20scientists%2C%20like%20most,the%20total%20in%20their%20entirety.&text=Calculating%20sea%20ice%20extent%20means,with%2015%20percent%20or%20more.\">reference</a>).  \n",
    "\n",
    "*The sea ice extent calculation is done using the grid area and sea ice concentration.  It should be noted that no bias or uncertainty correction is applied in the estimation process.*\n",
    "\n",
    "**The exercise demonstrates the following techniques:**\n",
    "-   Downloading and saving a netcdf file from PolarWatch ERDDAP data server\n",
    "-   Accessing satellite data and metadata in polar stereographic projection \n",
    "-   Compute sea ice extent using sea ice concentration data\n",
    "-   Mapping sea ice extent \n",
    "\n",
    "**Datasets used:**\n",
    "-   sea ice concentration from the northern hemisphere \n",
    "\n",
    "**Python packages used:**\n",
    "-   xarray (reading and analyzing data)\n",
    "-   pyproj (reprojection)\n",
    "-   cartopy (mapping projection)\n",
    "-   matplotlib (mapping)\n",
    "-   numpy (data analysis, manipulation)\n",
    "\n",
    "\n",
    "\n",
    "### Reference\n",
    "- <a href=\"https://nsidc.org/learn/ask-scientist/what-difference-between-sea-ice-area-and-extent#:~:text=But%20NSIDC%20scientists%2C%20like%20most,the%20total%20in%20their%20entirety.&text=Calculating%20sea%20ice%20extent%20means,with%2015%20percent%20or%20more.\">NSIDC Sea ice area vs extent</a>\n",
    "- <a href=\"https://nsidc.org/arcticseaicenews/\">NSIDC Arctic Sea Ice News & Analysis</a>\n",
    "- <a href=\"https://www.climate.gov/news-features/understanding-climate/understanding-climate-antarctic-sea-ice-extent\">Climate.gov Understanding Climate: sea ice extent</a>\n",
    "\n"
   ]
  },
  {
   "cell_type": "markdown",
   "id": "2c84fdad",
   "metadata": {
    "ExecuteTime": {
     "end_time": "2023-08-07T21:48:30.650759Z",
     "start_time": "2023-08-07T21:48:30.633157Z"
    }
   },
   "source": [
    "## Import packages"
   ]
  },
  {
   "cell_type": "code",
   "execution_count": 28,
   "id": "0a468fd4",
   "metadata": {
    "ExecuteTime": {
     "end_time": "2023-08-07T23:31:37.061220Z",
     "start_time": "2023-08-07T23:31:37.052539Z"
    }
   },
   "outputs": [],
   "source": [
    "# import cartopy.crs as ccrs\n",
    "import urllib.request\n",
    "import pyproj\n",
    "import xarray as xr\n",
    "import numpy as np\n",
    "import pyproj\n",
    "from pyproj import CRS\n",
    "from pyproj import Transformer as transformer\n",
    "\n",
    "# from matplotlib import pyplot as plt "
   ]
  },
  {
   "cell_type": "markdown",
   "id": "bb8cff40",
   "metadata": {
    "ExecuteTime": {
     "end_time": "2023-08-07T21:50:32.623152Z",
     "start_time": "2023-08-07T21:50:32.607363Z"
    }
   },
   "source": [
    "## Arctic Sea Ice Concentration Data\n",
    "\n",
    "To demonstrate sea ice extent estimation, one time step NSIDC Sea Ice Concentration data from passive microwave sensors will be used.\n",
    "This dataset includes sea ice concentration data from the northern hemisphere, and is produced by the NOAA/NSIDC and annually processed, using the Climate Data Record algorithm.  The resolution is 25km, meaning each grid in this data set represents a value that covers a 25km by 25km area.  \n",
    "\n",
    "\n",
    "**Data**\n",
    "\n",
    "*Sea Ice Concentration*, NOAA/NSIDC Climate Data Record V4, Northern Hemisphere, 25km, Science Quality, 1978-2022, Monthly\n",
    "\n",
    "\n",
    "\n",
    "\n",
    "**Userful links**\n",
    "\n",
    "-   <a href=\"https://nsidc.org/data/g02202/versions/4\" target=\"_blank\">NSIDC Data Product Description</a>\n",
    "-   <a href=\"https://nsidc.org/sites/default/files/g02202-v004-userguide_1_1.pdf\" target=\"_blank\">NSIDC Data Product User Guide (pdf)</a>\n",
    "-   <a href=\"https://polarwatch.noaa.gov/catalog/ice-sq-nh-nsidc-cdr-v4/preview/?dataset=daily&var=cdr_seaice_conc&time_min=2022-05-31T00:00:00Z&time_max=2022-05-31T00:00:00Z&proj=epsg3413&colorBar=KT_ice|||0|1|\" target=\"_blank\">NOAA PolarWatch Data Product Page (download, preview)</a>\n",
    "\n",
    "\n"
   ]
  },
  {
   "cell_type": "code",
   "execution_count": 6,
   "id": "7cf4631b",
   "metadata": {
    "ExecuteTime": {
     "end_time": "2023-08-07T21:52:38.544067Z",
     "start_time": "2023-08-07T21:52:37.846262Z"
    }
   },
   "outputs": [
    {
     "data": {
      "text/plain": [
       "('sic.nc', <http.client.HTTPMessage at 0x123cf6f50>)"
      ]
     },
     "execution_count": 6,
     "metadata": {},
     "output_type": "execute_result"
    }
   ],
   "source": [
    "url=\"https://polarwatch.noaa.gov/erddap/griddap/nsidcG02202v4nhmday.nc?cdr_seaice_conc_monthly[(2022-12-01T00:00:00Z):1:(2022-12-01T00:00:00Z)][(4843696.04):1:(-4858210.64)][(-3850000.0):1:(3750000.0)]\"\n",
    "urllib.request.urlretrieve(url, \"sic.nc\")"
   ]
  },
  {
   "cell_type": "code",
   "execution_count": 84,
   "id": "d0d2dee2",
   "metadata": {
    "ExecuteTime": {
     "end_time": "2023-08-08T00:16:36.445233Z",
     "start_time": "2023-08-08T00:16:36.425334Z"
    }
   },
   "outputs": [],
   "source": [
    "# open and assign data from the file to a variable ds using xarray\n",
    "ds = xr.open_dataset(\"sic.nc\")"
   ]
  },
  {
   "cell_type": "code",
   "execution_count": 87,
   "id": "d1a5be15",
   "metadata": {
    "ExecuteTime": {
     "end_time": "2023-08-08T00:18:52.937375Z",
     "start_time": "2023-08-08T00:18:52.931031Z"
    }
   },
   "outputs": [],
   "source": [
    "sic = ds.cdr_seaice_conc_monthly \n",
    "x, y  = ds['xgrid'].values, ds['ygrid'].values"
   ]
  },
  {
   "cell_type": "code",
   "execution_count": 117,
   "id": "2db5cb0f",
   "metadata": {
    "ExecuteTime": {
     "end_time": "2023-08-08T00:31:18.077785Z",
     "start_time": "2023-08-08T00:31:18.065216Z"
    }
   },
   "outputs": [],
   "source": [
    "# compute phi\n",
    "def compute_phi(x,y):\n",
    "    transformer = pyproj.Transformer.from_crs(\"3413\", \"4326\")\n",
    "    lat, lon = transformer.transform(x, y) #x,y are center of a grid\n",
    "    phi = np.radians(lat)\n",
    "    return phi\n",
    "\n",
    "# compute actual cell area\n",
    "def compute_cell_area(x,y, proj):\n",
    "    # Constants\n",
    "    R = 6371.0  # Earth radius in km\n",
    "    k0 = pyproj.CRS(\"EPSG:3413\").to_dict().get('k_0', 1.0)\n",
    "    area_xy = 625 #25k by 25k resolution \n",
    "\n",
    "    #proj = pyproj.Proj(\"EPSG:3413\")  if not passed\n",
    "\n",
    "    phi = compute_phi(x, y)\n",
    "\n",
    "    # Compute the Jacobian determinant for the Polar Stereographic projection\n",
    "    jacobian_determinant = (2 * k0 * R**2) / (1 + np.sin(phi))\n",
    "\n",
    "    # Actual area on Earth's surface\n",
    "    actual_area = jacobian_determinant * area_xy\n",
    "    return actual_area\n"
   ]
  },
  {
   "cell_type": "code",
   "execution_count": 118,
   "id": "9c78130a",
   "metadata": {
    "ExecuteTime": {
     "end_time": "2023-08-08T00:31:19.915632Z",
     "start_time": "2023-08-08T00:31:19.812443Z"
    }
   },
   "outputs": [
    {
     "name": "stderr",
     "output_type": "stream",
     "text": [
      "/Users/sunbak/mambaforge/envs/code_gallery/lib/python3.11/site-packages/pyproj/crs/crs.py:1296: UserWarning: You will likely lose important projection information when converting to a PROJ string from another format. See: https://proj.org/faq.html#what-is-the-best-format-for-describing-coordinate-reference-systems\n",
      "  proj = self._crs.to_proj4(version=version)\n"
     ]
    }
   ],
   "source": [
    "proj = pyproj.Proj(\"EPSG:3413\") \n",
    "xx, yy = np.meshgrid(x,y)\n",
    "actual_area = compute_cell_area(xx, yy, proj)\n",
    "# transformer = pyproj.Transformer.from_crs(\"3413\", \"4326\")\n",
    "# lat, lon = transformer.transform(x[0], y[0]) #x,y are center of a grid"
   ]
  },
  {
   "cell_type": "code",
   "execution_count": 119,
   "id": "f0128ec4",
   "metadata": {
    "ExecuteTime": {
     "end_time": "2023-08-08T00:31:21.804554Z",
     "start_time": "2023-08-08T00:31:21.794254Z"
    }
   },
   "outputs": [],
   "source": [
    "# add grid area to the dataset\n",
    "ds['area'] = (('ygrid', 'xgrid'), actual_area)\n"
   ]
  },
  {
   "cell_type": "code",
   "execution_count": 120,
   "id": "d844deea",
   "metadata": {
    "ExecuteTime": {
     "end_time": "2023-08-08T00:31:24.271508Z",
     "start_time": "2023-08-08T00:31:24.253566Z"
    }
   },
   "outputs": [],
   "source": [
    "da = ds.where(ds.cdr_seaice_conc_monthly <=1)"
   ]
  },
  {
   "cell_type": "code",
   "execution_count": 125,
   "id": "4b502cae",
   "metadata": {
    "ExecuteTime": {
     "end_time": "2023-08-08T00:34:09.318080Z",
     "start_time": "2023-08-08T00:34:09.212334Z"
    }
   },
   "outputs": [
    {
     "name": "stdout",
     "output_type": "stream",
     "text": [
      "Data written to data_check.csv\n"
     ]
    }
   ],
   "source": [
    "import csv\n",
    "filename = \"data_check.csv\"\n",
    "\n",
    "# Write to CSV\n",
    "with open(filename, 'w', newline='') as file:\n",
    "    writer = csv.writer(file)\n",
    "    writer.writerows(ds['area'].values)\n",
    "\n",
    "print(f\"Data written to {filename}\")"
   ]
  },
  {
   "cell_type": "code",
   "execution_count": 121,
   "id": "f1761c33",
   "metadata": {
    "ExecuteTime": {
     "end_time": "2023-08-08T00:31:25.880548Z",
     "start_time": "2023-08-08T00:31:25.859417Z"
    }
   },
   "outputs": [
    {
     "data": {
      "text/plain": [
       "array([[[3.16793008e+10],\n",
       "        [3.16475103e+10],\n",
       "        [3.16159286e+10],\n",
       "        ...,\n",
       "        [           nan],\n",
       "        [           nan],\n",
       "        [           nan]],\n",
       "\n",
       "       [[3.16391992e+10],\n",
       "        [3.16074100e+10],\n",
       "        [3.15758297e+10],\n",
       "        ...,\n",
       "        [           nan],\n",
       "        [           nan],\n",
       "        [           nan]],\n",
       "\n",
       "       [[3.15993071e+10],\n",
       "        [3.15675193e+10],\n",
       "        [3.15359403e+10],\n",
       "        ...,\n",
       "        [           nan],\n",
       "        [           nan],\n",
       "        [           nan]],\n",
       "\n",
       "       ...,\n",
       "\n",
       "       [[           nan],\n",
       "        [           nan],\n",
       "        [           nan],\n",
       "        ...,\n",
       "        [           nan],\n",
       "        [           nan],\n",
       "        [           nan]],\n",
       "\n",
       "       [[           nan],\n",
       "        [           nan],\n",
       "        [           nan],\n",
       "        ...,\n",
       "        [           nan],\n",
       "        [           nan],\n",
       "        [           nan]],\n",
       "\n",
       "       [[           nan],\n",
       "        [           nan],\n",
       "        [           nan],\n",
       "        ...,\n",
       "        [           nan],\n",
       "        [           nan],\n",
       "        [           nan]]])"
      ]
     },
     "execution_count": 121,
     "metadata": {},
     "output_type": "execute_result"
    }
   ],
   "source": [
    "gridextent = xr.where(da.cdr_seaice_conc_monthly < 0.15, 0, 1) * da.area\n",
    "da.area.values\n"
   ]
  },
  {
   "cell_type": "code",
   "execution_count": null,
   "id": "b120ef6f",
   "metadata": {},
   "outputs": [],
   "source": []
  }
 ],
 "metadata": {
  "kernelspec": {
   "display_name": "code_gallery",
   "language": "python",
   "name": "code_gallery"
  },
  "language_info": {
   "codemirror_mode": {
    "name": "ipython",
    "version": 3
   },
   "file_extension": ".py",
   "mimetype": "text/x-python",
   "name": "python",
   "nbconvert_exporter": "python",
   "pygments_lexer": "ipython3",
   "version": "3.11.3"
  }
 },
 "nbformat": 4,
 "nbformat_minor": 5
}
