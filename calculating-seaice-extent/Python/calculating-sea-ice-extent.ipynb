{
 "cells": [
  {
   "cell_type": "markdown",
   "id": "fbe8b7a6",
   "metadata": {},
   "source": [
    "# Calculating sea ice area and extent\n",
    "\n",
    "> Updated August 2023 <br/>\n",
    "\n",
    "<a href=\"https://polarwatch.noaa.gov/\" target=\"_blank\">NOAA PolarWatch</a> distributes gridded and tabular oceanographic data for polar regions. Many of the PolarWatch data products include sea ice related satellite data. Sea ice extent and sea ice area describe the area of ice coverage at a given time and play an important role as an environemntal indicator in climate research. \n",
    "\n",
    "\n",
    "**In this exercise, we will learn** how to calculate the sea ice area and extent using sea ice concentration and grid cell area data.  Please visit the  <a href=\"https://nsidc.org/learn/ask-scientist/what-difference-between-sea-ice-area-and-extent#:~:text=But%20NSIDC%20scientists%2C%20like%20most,the%20total%20in%20their%20entirety.&text=Calculating%20sea%20ice%20extent%20means,with%2015%20percent%20or%20more.\">NSIDC website</a> for more detailed descriptions of the calculations. \n",
    "\n",
    "**The exercise demonstrates the following techniques:**\n",
    "-   Downloading and saving a netcdf file from PolarWatch ERDDAP data server\n",
    "-   Accessing satellite data and metadata in polar stereographic projection\n",
    "-   Downloading and adding grid cell area data to the satellite data\n",
    "-   Computing sea ice area and extent using sea ice concentration data\n",
    "-   Plotting 12 month sea ice area and extent\n",
    "\n",
    "**Datasets used:**\n",
    "\n",
    "- The <a href=\"https://polarwatch.noaa.gov/catalog/ice-sq-nh-nsidc-cdr-v4/preview/?dataset=monthly&var=cdr_seaice_conc_monthly&time_min=2022-12-01T00:00:00Z&time_max=2022-12-01T00:00:00Z&proj=epsg3413&colorBar=KT_ice,,,0,1,\">sea ice concentration (SIC) data</a> used in this exercise are proportion coverage values from the northern hemisphere at 25km resolution in the Polar stereographic projection North (EPSG: 3413).\n",
    "\n",
    "\n",
    "-  Polar Stereographic Ancillary Grid Information that includes grid cell area values of  25k resolution Polar stereographic projection North.\n",
    "\n",
    "**References:**\n",
    "- <a href=\"https://polarwatch.noaa.gov/catalog/\">PolarWatch Data Catalog</a>\n",
    "- <a href=\"https://nsidc.org/learn/ask-scientist/what-difference-between-sea-ice-area-and-extent#:~:text=But%20NSIDC%20scientists%2C%20like%20most,the%20total%20in%20their%20entirety.&text=Calculating%20sea%20ice%20extent%20means,with%2015%20percent%20or%20more.\">What's the difference between Sea ice area and extent?</a>\n",
    "- <a href=\"https://nsidc.org/arcticseaicenews/\">NSIDC Arctic Sea Ice News & Analysis</a>\n",
    "- <a href=\"https://www.climate.gov/news-features/understanding-climate/understanding-climate-antarctic-sea-ice-extent\">Climate.gov Understanding Climate: sea ice extent</a>\n",
    "\n",
    "\n"
   ]
  },
  {
   "cell_type": "markdown",
   "id": "2c84fdad",
   "metadata": {
    "ExecuteTime": {
     "end_time": "2023-08-07T21:48:30.650759Z",
     "start_time": "2023-08-07T21:48:30.633157Z"
    }
   },
   "source": [
    "### Import Python modules"
   ]
  },
  {
   "cell_type": "code",
   "execution_count": 20,
   "id": "0a468fd4",
   "metadata": {
    "ExecuteTime": {
     "end_time": "2023-08-11T16:38:24.284311Z",
     "start_time": "2023-08-11T16:38:24.262984Z"
    }
   },
   "outputs": [],
   "source": [
    "import urllib.request\n",
    "import xarray as xr    \n",
    "import numpy as np\n",
    "import pyproj  \n",
    "from pyproj import CRS\n",
    "from pyproj import Transformer as transformer\n",
    "import cartopy.crs as ccrs\n",
    "import cartopy.feature as cfeature\n",
    "import matplotlib.pyplot as plt"
   ]
  },
  {
   "cell_type": "markdown",
   "id": "bb8cff40",
   "metadata": {
    "ExecuteTime": {
     "end_time": "2023-08-07T21:50:32.623152Z",
     "start_time": "2023-08-07T21:50:32.607363Z"
    }
   },
   "source": [
    "## Arctic Sea Ice Concentration Data\n",
    "\n",
    "The sea ice concentration (SIC) data are percent (proportion) coverage of ice within each grid cell. The SIC dataset used in this exercise is produced by the NOAA/NSIDC from passive microwave sensors using the Climate Data Record (CDR). The data are projected in the northern polar stereographic projection (EPSG:3413). This sea ice concentration data values in the dataset are represented as proportions ranging from 0 to 1. The resolution is 25km, meaning each grid in this data set represents a value that covers a 25km by 25km area.\n",
    "\n",
    "\n",
    "**Data**\n",
    "\n",
    "*Sea Ice Concentration*, NOAA/NSIDC Climate Data Record V4, Northern Hemisphere, 25km, Science Quality, 1978-2022, Monthly\n",
    "\n",
    "\n",
    "\n",
    "**Useful links**\n",
    "\n",
    "-   <a href=\"https://nsidc.org/data/g02202/versions/4\" target=\"_blank\">NSIDC Data Product Description</a>\n",
    "-   <a href=\"https://nsidc.org/sites/default/files/g02202-v004-userguide_1_1.pdf\" target=\"_blank\">NSIDC Data Product User Guide (pdf)</a>\n",
    "-   <a href=\"https://polarwatch.noaa.gov/catalog/ice-sq-nh-nsidc-cdr-v4/preview/?dataset=daily&var=cdr_seaice_conc&time_min=2022-05-31T00:00:00Z&time_max=2022-05-31T00:00:00Z&proj=epsg3413&colorBar=KT_ice|||0|1|\" target=\"_blank\">NOAA PolarWatch Data Product Page (download, preview)</a>"
   ]
  },
  {
   "cell_type": "markdown",
   "id": "1a48ad4b",
   "metadata": {},
   "source": [
    "### Sending data request to PolarWatch ERDDAP server\n",
    "\n",
    "ERDDAP URL can be constructed to customize the dataset to be received. \n",
    "\n",
    "```\n",
    "https://polarwatch.noaa.gov/erddap/griddap/nsidcG02202v4nhmday.nc?cdr_seaice_conc_monthly[(2021-01-01T00:00:00Z):1:(2021-12-01T00:00:00Z)][(4843696.04):1:(-4858210.64)][(-3850000.0):1:(3750000.0)]\"\n",
    "```\n",
    "\n",
    "| Name   | Value| Description |\n",
    "| ---:        |    :----   |          :--- |\n",
    "| **ERDDAP URL**    |    https://polarwatch.noaa.gov/erddap/griddap  | ERDDAP URL for gridded datasets\n",
    "| **Dataset ID** | nsidcG02202v4nhmday   | Unique ID for dataset from PolarWatch ERDDAP\n",
    "| **File format**  | .nc        | netCDF and there are many other available file formats|\n",
    "| **Variable name**   | cdr_seaice_conc_monthly        | list of variables from the dataset \n",
    "| **Time coverage**   | [(2021-01-01T00:00:00Z):1:(2021--01-01T00:00:00Z)]      |  Temporal date range (2021-01-01)\n",
    "| **Spatial coverage**   | [(4843696.04):1:(-4858210.64)][(-3850000.0):1:(3750000.0)]  |  spatial range \n",
    "\n",
    " \n",
    "\n"
   ]
  },
  {
   "cell_type": "code",
   "execution_count": 13,
   "id": "7cf4631b",
   "metadata": {
    "ExecuteTime": {
     "end_time": "2023-08-10T16:46:54.553728Z",
     "start_time": "2023-08-10T16:46:54.060087Z"
    }
   },
   "outputs": [
    {
     "data": {
      "text/plain": [
       "('sic.nc', <http.client.HTTPMessage at 0x142b3f190>)"
      ]
     },
     "execution_count": 13,
     "metadata": {},
     "output_type": "execute_result"
    }
   ],
   "source": [
    "# Get data from ERDDAP URL\n",
    "url=\"https://polarwatch.noaa.gov/erddap/griddap/nsidcG02202v4nhmday.nc?cdr_seaice_conc_monthly[(2022-12-01T00:00:00Z):1:(2022-12-01T00:00:00Z)][(4843696.04):1:(-4858210.64)][(-3850000.0):1:(3750000.0)]\"\n",
    "urllib.request.urlretrieve(url, \"sic.nc\")"
   ]
  },
  {
   "cell_type": "code",
   "execution_count": 4,
   "id": "d0d2dee2",
   "metadata": {
    "ExecuteTime": {
     "end_time": "2023-08-11T16:28:53.741128Z",
     "start_time": "2023-08-11T16:28:53.699096Z"
    }
   },
   "outputs": [],
   "source": [
    "# Create a dataset variable from nc file\n",
    "ds = xr.open_dataset(\"sic.nc\")"
   ]
  },
  {
   "cell_type": "markdown",
   "id": "c1147a64",
   "metadata": {},
   "source": [
    "\n",
    "## Polar Stereographic Ancillary Grid Information\n",
    "\n",
    "While the resolution of this data set is 25km (25km by 25km grid), the actual area of the grid depends on the grid projection. The NSIDC publishes netCDF files of actual grid areas of polar stereographic projections at different resolutions.  The file for this exercise is downloaded and saved in the <a href=\"#\">resources folder</a> or can be downloaded from the NSIDC website at https://nsidc.org/data/nsidc-0771/versions/1.  \n"
   ]
  },
  {
   "cell_type": "code",
   "execution_count": 5,
   "id": "36f0ce11",
   "metadata": {
    "ExecuteTime": {
     "end_time": "2023-08-11T16:28:56.028388Z",
     "start_time": "2023-08-11T16:28:56.007684Z"
    }
   },
   "outputs": [],
   "source": [
    "# Create a dataset variable from nc file\n",
    "grid_area = xr.open_dataset(\"../resources/NSIDC0771_CellArea_PS_N25km_v1.0.nc\")"
   ]
  },
  {
   "cell_type": "code",
   "execution_count": 16,
   "id": "d8d68f18",
   "metadata": {
    "ExecuteTime": {
     "end_time": "2023-08-10T16:46:54.596971Z",
     "start_time": "2023-08-10T16:46:54.588068Z"
    }
   },
   "outputs": [
    {
     "data": {
      "text/html": [
       "<div><svg style=\"position: absolute; width: 0; height: 0; overflow: hidden\">\n",
       "<defs>\n",
       "<symbol id=\"icon-database\" viewBox=\"0 0 32 32\">\n",
       "<path d=\"M16 0c-8.837 0-16 2.239-16 5v4c0 2.761 7.163 5 16 5s16-2.239 16-5v-4c0-2.761-7.163-5-16-5z\"></path>\n",
       "<path d=\"M16 17c-8.837 0-16-2.239-16-5v6c0 2.761 7.163 5 16 5s16-2.239 16-5v-6c0 2.761-7.163 5-16 5z\"></path>\n",
       "<path d=\"M16 26c-8.837 0-16-2.239-16-5v6c0 2.761 7.163 5 16 5s16-2.239 16-5v-6c0 2.761-7.163 5-16 5z\"></path>\n",
       "</symbol>\n",
       "<symbol id=\"icon-file-text2\" viewBox=\"0 0 32 32\">\n",
       "<path d=\"M28.681 7.159c-0.694-0.947-1.662-2.053-2.724-3.116s-2.169-2.030-3.116-2.724c-1.612-1.182-2.393-1.319-2.841-1.319h-15.5c-1.378 0-2.5 1.121-2.5 2.5v27c0 1.378 1.122 2.5 2.5 2.5h23c1.378 0 2.5-1.122 2.5-2.5v-19.5c0-0.448-0.137-1.23-1.319-2.841zM24.543 5.457c0.959 0.959 1.712 1.825 2.268 2.543h-4.811v-4.811c0.718 0.556 1.584 1.309 2.543 2.268zM28 29.5c0 0.271-0.229 0.5-0.5 0.5h-23c-0.271 0-0.5-0.229-0.5-0.5v-27c0-0.271 0.229-0.5 0.5-0.5 0 0 15.499-0 15.5 0v7c0 0.552 0.448 1 1 1h7v19.5z\"></path>\n",
       "<path d=\"M23 26h-14c-0.552 0-1-0.448-1-1s0.448-1 1-1h14c0.552 0 1 0.448 1 1s-0.448 1-1 1z\"></path>\n",
       "<path d=\"M23 22h-14c-0.552 0-1-0.448-1-1s0.448-1 1-1h14c0.552 0 1 0.448 1 1s-0.448 1-1 1z\"></path>\n",
       "<path d=\"M23 18h-14c-0.552 0-1-0.448-1-1s0.448-1 1-1h14c0.552 0 1 0.448 1 1s-0.448 1-1 1z\"></path>\n",
       "</symbol>\n",
       "</defs>\n",
       "</svg>\n",
       "<style>/* CSS stylesheet for displaying xarray objects in jupyterlab.\n",
       " *\n",
       " */\n",
       "\n",
       ":root {\n",
       "  --xr-font-color0: var(--jp-content-font-color0, rgba(0, 0, 0, 1));\n",
       "  --xr-font-color2: var(--jp-content-font-color2, rgba(0, 0, 0, 0.54));\n",
       "  --xr-font-color3: var(--jp-content-font-color3, rgba(0, 0, 0, 0.38));\n",
       "  --xr-border-color: var(--jp-border-color2, #e0e0e0);\n",
       "  --xr-disabled-color: var(--jp-layout-color3, #bdbdbd);\n",
       "  --xr-background-color: var(--jp-layout-color0, white);\n",
       "  --xr-background-color-row-even: var(--jp-layout-color1, white);\n",
       "  --xr-background-color-row-odd: var(--jp-layout-color2, #eeeeee);\n",
       "}\n",
       "\n",
       "html[theme=dark],\n",
       "body[data-theme=dark],\n",
       "body.vscode-dark {\n",
       "  --xr-font-color0: rgba(255, 255, 255, 1);\n",
       "  --xr-font-color2: rgba(255, 255, 255, 0.54);\n",
       "  --xr-font-color3: rgba(255, 255, 255, 0.38);\n",
       "  --xr-border-color: #1F1F1F;\n",
       "  --xr-disabled-color: #515151;\n",
       "  --xr-background-color: #111111;\n",
       "  --xr-background-color-row-even: #111111;\n",
       "  --xr-background-color-row-odd: #313131;\n",
       "}\n",
       "\n",
       ".xr-wrap {\n",
       "  display: block !important;\n",
       "  min-width: 300px;\n",
       "  max-width: 700px;\n",
       "}\n",
       "\n",
       ".xr-text-repr-fallback {\n",
       "  /* fallback to plain text repr when CSS is not injected (untrusted notebook) */\n",
       "  display: none;\n",
       "}\n",
       "\n",
       ".xr-header {\n",
       "  padding-top: 6px;\n",
       "  padding-bottom: 6px;\n",
       "  margin-bottom: 4px;\n",
       "  border-bottom: solid 1px var(--xr-border-color);\n",
       "}\n",
       "\n",
       ".xr-header > div,\n",
       ".xr-header > ul {\n",
       "  display: inline;\n",
       "  margin-top: 0;\n",
       "  margin-bottom: 0;\n",
       "}\n",
       "\n",
       ".xr-obj-type,\n",
       ".xr-array-name {\n",
       "  margin-left: 2px;\n",
       "  margin-right: 10px;\n",
       "}\n",
       "\n",
       ".xr-obj-type {\n",
       "  color: var(--xr-font-color2);\n",
       "}\n",
       "\n",
       ".xr-sections {\n",
       "  padding-left: 0 !important;\n",
       "  display: grid;\n",
       "  grid-template-columns: 150px auto auto 1fr 20px 20px;\n",
       "}\n",
       "\n",
       ".xr-section-item {\n",
       "  display: contents;\n",
       "}\n",
       "\n",
       ".xr-section-item input {\n",
       "  display: none;\n",
       "}\n",
       "\n",
       ".xr-section-item input + label {\n",
       "  color: var(--xr-disabled-color);\n",
       "}\n",
       "\n",
       ".xr-section-item input:enabled + label {\n",
       "  cursor: pointer;\n",
       "  color: var(--xr-font-color2);\n",
       "}\n",
       "\n",
       ".xr-section-item input:enabled + label:hover {\n",
       "  color: var(--xr-font-color0);\n",
       "}\n",
       "\n",
       ".xr-section-summary {\n",
       "  grid-column: 1;\n",
       "  color: var(--xr-font-color2);\n",
       "  font-weight: 500;\n",
       "}\n",
       "\n",
       ".xr-section-summary > span {\n",
       "  display: inline-block;\n",
       "  padding-left: 0.5em;\n",
       "}\n",
       "\n",
       ".xr-section-summary-in:disabled + label {\n",
       "  color: var(--xr-font-color2);\n",
       "}\n",
       "\n",
       ".xr-section-summary-in + label:before {\n",
       "  display: inline-block;\n",
       "  content: '►';\n",
       "  font-size: 11px;\n",
       "  width: 15px;\n",
       "  text-align: center;\n",
       "}\n",
       "\n",
       ".xr-section-summary-in:disabled + label:before {\n",
       "  color: var(--xr-disabled-color);\n",
       "}\n",
       "\n",
       ".xr-section-summary-in:checked + label:before {\n",
       "  content: '▼';\n",
       "}\n",
       "\n",
       ".xr-section-summary-in:checked + label > span {\n",
       "  display: none;\n",
       "}\n",
       "\n",
       ".xr-section-summary,\n",
       ".xr-section-inline-details {\n",
       "  padding-top: 4px;\n",
       "  padding-bottom: 4px;\n",
       "}\n",
       "\n",
       ".xr-section-inline-details {\n",
       "  grid-column: 2 / -1;\n",
       "}\n",
       "\n",
       ".xr-section-details {\n",
       "  display: none;\n",
       "  grid-column: 1 / -1;\n",
       "  margin-bottom: 5px;\n",
       "}\n",
       "\n",
       ".xr-section-summary-in:checked ~ .xr-section-details {\n",
       "  display: contents;\n",
       "}\n",
       "\n",
       ".xr-array-wrap {\n",
       "  grid-column: 1 / -1;\n",
       "  display: grid;\n",
       "  grid-template-columns: 20px auto;\n",
       "}\n",
       "\n",
       ".xr-array-wrap > label {\n",
       "  grid-column: 1;\n",
       "  vertical-align: top;\n",
       "}\n",
       "\n",
       ".xr-preview {\n",
       "  color: var(--xr-font-color3);\n",
       "}\n",
       "\n",
       ".xr-array-preview,\n",
       ".xr-array-data {\n",
       "  padding: 0 5px !important;\n",
       "  grid-column: 2;\n",
       "}\n",
       "\n",
       ".xr-array-data,\n",
       ".xr-array-in:checked ~ .xr-array-preview {\n",
       "  display: none;\n",
       "}\n",
       "\n",
       ".xr-array-in:checked ~ .xr-array-data,\n",
       ".xr-array-preview {\n",
       "  display: inline-block;\n",
       "}\n",
       "\n",
       ".xr-dim-list {\n",
       "  display: inline-block !important;\n",
       "  list-style: none;\n",
       "  padding: 0 !important;\n",
       "  margin: 0;\n",
       "}\n",
       "\n",
       ".xr-dim-list li {\n",
       "  display: inline-block;\n",
       "  padding: 0;\n",
       "  margin: 0;\n",
       "}\n",
       "\n",
       ".xr-dim-list:before {\n",
       "  content: '(';\n",
       "}\n",
       "\n",
       ".xr-dim-list:after {\n",
       "  content: ')';\n",
       "}\n",
       "\n",
       ".xr-dim-list li:not(:last-child):after {\n",
       "  content: ',';\n",
       "  padding-right: 5px;\n",
       "}\n",
       "\n",
       ".xr-has-index {\n",
       "  font-weight: bold;\n",
       "}\n",
       "\n",
       ".xr-var-list,\n",
       ".xr-var-item {\n",
       "  display: contents;\n",
       "}\n",
       "\n",
       ".xr-var-item > div,\n",
       ".xr-var-item label,\n",
       ".xr-var-item > .xr-var-name span {\n",
       "  background-color: var(--xr-background-color-row-even);\n",
       "  margin-bottom: 0;\n",
       "}\n",
       "\n",
       ".xr-var-item > .xr-var-name:hover span {\n",
       "  padding-right: 5px;\n",
       "}\n",
       "\n",
       ".xr-var-list > li:nth-child(odd) > div,\n",
       ".xr-var-list > li:nth-child(odd) > label,\n",
       ".xr-var-list > li:nth-child(odd) > .xr-var-name span {\n",
       "  background-color: var(--xr-background-color-row-odd);\n",
       "}\n",
       "\n",
       ".xr-var-name {\n",
       "  grid-column: 1;\n",
       "}\n",
       "\n",
       ".xr-var-dims {\n",
       "  grid-column: 2;\n",
       "}\n",
       "\n",
       ".xr-var-dtype {\n",
       "  grid-column: 3;\n",
       "  text-align: right;\n",
       "  color: var(--xr-font-color2);\n",
       "}\n",
       "\n",
       ".xr-var-preview {\n",
       "  grid-column: 4;\n",
       "}\n",
       "\n",
       ".xr-index-preview {\n",
       "  grid-column: 2 / 5;\n",
       "  color: var(--xr-font-color2);\n",
       "}\n",
       "\n",
       ".xr-var-name,\n",
       ".xr-var-dims,\n",
       ".xr-var-dtype,\n",
       ".xr-preview,\n",
       ".xr-attrs dt {\n",
       "  white-space: nowrap;\n",
       "  overflow: hidden;\n",
       "  text-overflow: ellipsis;\n",
       "  padding-right: 10px;\n",
       "}\n",
       "\n",
       ".xr-var-name:hover,\n",
       ".xr-var-dims:hover,\n",
       ".xr-var-dtype:hover,\n",
       ".xr-attrs dt:hover {\n",
       "  overflow: visible;\n",
       "  width: auto;\n",
       "  z-index: 1;\n",
       "}\n",
       "\n",
       ".xr-var-attrs,\n",
       ".xr-var-data,\n",
       ".xr-index-data {\n",
       "  display: none;\n",
       "  background-color: var(--xr-background-color) !important;\n",
       "  padding-bottom: 5px !important;\n",
       "}\n",
       "\n",
       ".xr-var-attrs-in:checked ~ .xr-var-attrs,\n",
       ".xr-var-data-in:checked ~ .xr-var-data,\n",
       ".xr-index-data-in:checked ~ .xr-index-data {\n",
       "  display: block;\n",
       "}\n",
       "\n",
       ".xr-var-data > table {\n",
       "  float: right;\n",
       "}\n",
       "\n",
       ".xr-var-name span,\n",
       ".xr-var-data,\n",
       ".xr-index-name div,\n",
       ".xr-index-data,\n",
       ".xr-attrs {\n",
       "  padding-left: 25px !important;\n",
       "}\n",
       "\n",
       ".xr-attrs,\n",
       ".xr-var-attrs,\n",
       ".xr-var-data,\n",
       ".xr-index-data {\n",
       "  grid-column: 1 / -1;\n",
       "}\n",
       "\n",
       "dl.xr-attrs {\n",
       "  padding: 0;\n",
       "  margin: 0;\n",
       "  display: grid;\n",
       "  grid-template-columns: 125px auto;\n",
       "}\n",
       "\n",
       ".xr-attrs dt,\n",
       ".xr-attrs dd {\n",
       "  padding: 0;\n",
       "  margin: 0;\n",
       "  float: left;\n",
       "  padding-right: 10px;\n",
       "  width: auto;\n",
       "}\n",
       "\n",
       ".xr-attrs dt {\n",
       "  font-weight: normal;\n",
       "  grid-column: 1;\n",
       "}\n",
       "\n",
       ".xr-attrs dt:hover span {\n",
       "  display: inline-block;\n",
       "  background: var(--xr-background-color);\n",
       "  padding-right: 10px;\n",
       "}\n",
       "\n",
       ".xr-attrs dd {\n",
       "  grid-column: 2;\n",
       "  white-space: pre-wrap;\n",
       "  word-break: break-all;\n",
       "}\n",
       "\n",
       ".xr-icon-database,\n",
       ".xr-icon-file-text2,\n",
       ".xr-no-icon {\n",
       "  display: inline-block;\n",
       "  vertical-align: middle;\n",
       "  width: 1em;\n",
       "  height: 1.5em !important;\n",
       "  stroke-width: 0;\n",
       "  stroke: currentColor;\n",
       "  fill: currentColor;\n",
       "}\n",
       "</style><pre class='xr-text-repr-fallback'>&lt;xarray.Dataset&gt;\n",
       "Dimensions:    (x: 304, y: 448)\n",
       "Coordinates:\n",
       "  * x          (x) float64 -3.838e+06 -3.812e+06 ... 3.712e+06 3.738e+06\n",
       "  * y          (y) float64 5.838e+06 5.812e+06 ... -5.312e+06 -5.338e+06\n",
       "Data variables:\n",
       "    crs        int32 ...\n",
       "    cell_area  (y, x) float64 ...\n",
       "Attributes: (12/38)\n",
       "    title:                     Polar Stereo Ancillary Grid Information\n",
       "    summary:                   This data set provides the total on-Earth surf...\n",
       "    id:                        10.5067/N6INPBT8Y104\n",
       "    metadata_link:             https://doi.org/10.5067/N6INPBT8Y104\n",
       "    license:                   Access Constraint: These data are freely, open...\n",
       "    acknowledgment:            These data are produced and supported by the N...\n",
       "    ...                        ...\n",
       "    geospatial_lat_max:        90.0\n",
       "    geospatial_lon_min:        -180.0\n",
       "    geospatial_lon_max:        180.0\n",
       "    geospatial_lat_units:      degrees_north\n",
       "    geospatial_lon_units:      degrees_east\n",
       "    product_version:           1.0</pre><div class='xr-wrap' style='display:none'><div class='xr-header'><div class='xr-obj-type'>xarray.Dataset</div></div><ul class='xr-sections'><li class='xr-section-item'><input id='section-bf5f9323-b38f-433f-a620-038d335df7bc' class='xr-section-summary-in' type='checkbox' disabled ><label for='section-bf5f9323-b38f-433f-a620-038d335df7bc' class='xr-section-summary'  title='Expand/collapse section'>Dimensions:</label><div class='xr-section-inline-details'><ul class='xr-dim-list'><li><span class='xr-has-index'>x</span>: 304</li><li><span class='xr-has-index'>y</span>: 448</li></ul></div><div class='xr-section-details'></div></li><li class='xr-section-item'><input id='section-4cd179cd-a71d-460d-a995-656839755e8b' class='xr-section-summary-in' type='checkbox'  checked><label for='section-4cd179cd-a71d-460d-a995-656839755e8b' class='xr-section-summary' >Coordinates: <span>(2)</span></label><div class='xr-section-inline-details'></div><div class='xr-section-details'><ul class='xr-var-list'><li class='xr-var-item'><div class='xr-var-name'><span class='xr-has-index'>x</span></div><div class='xr-var-dims'>(x)</div><div class='xr-var-dtype'>float64</div><div class='xr-var-preview xr-preview'>-3.838e+06 -3.812e+06 ... 3.738e+06</div><input id='attrs-9aba1643-ea28-4cbb-9799-368c5c3bff9e' class='xr-var-attrs-in' type='checkbox' ><label for='attrs-9aba1643-ea28-4cbb-9799-368c5c3bff9e' title='Show/Hide attributes'><svg class='icon xr-icon-file-text2'><use xlink:href='#icon-file-text2'></use></svg></label><input id='data-d117e9d5-afb1-48d2-8f1c-588689a92e22' class='xr-var-data-in' type='checkbox'><label for='data-d117e9d5-afb1-48d2-8f1c-588689a92e22' title='Show/Hide data repr'><svg class='icon xr-icon-database'><use xlink:href='#icon-database'></use></svg></label><div class='xr-var-attrs'><dl class='xr-attrs'><dt><span>standard_name :</span></dt><dd>projection_x_coordinate</dd><dt><span>long_name :</span></dt><dd>x coordinate of projection</dd><dt><span>units :</span></dt><dd>meters</dd><dt><span>axis :</span></dt><dd>X</dd><dt><span>valid_range :</span></dt><dd>[-3850000.  3750000.]</dd></dl></div><div class='xr-var-data'><pre>array([-3837500., -3812500., -3787500., ...,  3687500.,  3712500.,  3737500.])</pre></div></li><li class='xr-var-item'><div class='xr-var-name'><span class='xr-has-index'>y</span></div><div class='xr-var-dims'>(y)</div><div class='xr-var-dtype'>float64</div><div class='xr-var-preview xr-preview'>5.838e+06 5.812e+06 ... -5.338e+06</div><input id='attrs-4ff3dc9b-3dee-45fe-8623-cc6827006f30' class='xr-var-attrs-in' type='checkbox' ><label for='attrs-4ff3dc9b-3dee-45fe-8623-cc6827006f30' title='Show/Hide attributes'><svg class='icon xr-icon-file-text2'><use xlink:href='#icon-file-text2'></use></svg></label><input id='data-88e9f78b-3933-473a-b383-aa643bc396f4' class='xr-var-data-in' type='checkbox'><label for='data-88e9f78b-3933-473a-b383-aa643bc396f4' title='Show/Hide data repr'><svg class='icon xr-icon-database'><use xlink:href='#icon-database'></use></svg></label><div class='xr-var-attrs'><dl class='xr-attrs'><dt><span>standard_name :</span></dt><dd>projection_y_coordinate</dd><dt><span>long_name :</span></dt><dd>y coordinate of projection</dd><dt><span>units :</span></dt><dd>meters</dd><dt><span>axis :</span></dt><dd>Y</dd><dt><span>valid_range :</span></dt><dd>[-5350000.  5850000.]</dd></dl></div><div class='xr-var-data'><pre>array([ 5837500.,  5812500.,  5787500., ..., -5287500., -5312500., -5337500.])</pre></div></li></ul></div></li><li class='xr-section-item'><input id='section-7bc53faa-3e73-4635-ad6d-b91d77faf7d1' class='xr-section-summary-in' type='checkbox'  checked><label for='section-7bc53faa-3e73-4635-ad6d-b91d77faf7d1' class='xr-section-summary' >Data variables: <span>(2)</span></label><div class='xr-section-inline-details'></div><div class='xr-section-details'><ul class='xr-var-list'><li class='xr-var-item'><div class='xr-var-name'><span>crs</span></div><div class='xr-var-dims'>()</div><div class='xr-var-dtype'>int32</div><div class='xr-var-preview xr-preview'>...</div><input id='attrs-c96052df-47e9-41bd-a794-703b27f647bd' class='xr-var-attrs-in' type='checkbox' ><label for='attrs-c96052df-47e9-41bd-a794-703b27f647bd' title='Show/Hide attributes'><svg class='icon xr-icon-file-text2'><use xlink:href='#icon-file-text2'></use></svg></label><input id='data-b71ee380-77f9-4973-b382-0a56bacd6464' class='xr-var-data-in' type='checkbox'><label for='data-b71ee380-77f9-4973-b382-0a56bacd6464' title='Show/Hide data repr'><svg class='icon xr-icon-database'><use xlink:href='#icon-database'></use></svg></label><div class='xr-var-attrs'><dl class='xr-attrs'><dt><span>grid_mapping_name :</span></dt><dd>polar_stereographic</dd><dt><span>straight_vertical_longitude_from_pole :</span></dt><dd>-45.0</dd><dt><span>false_easting :</span></dt><dd>0.0</dd><dt><span>false_northing :</span></dt><dd>0.0</dd><dt><span>latitude_of_projection_origin :</span></dt><dd>90.0</dd><dt><span>standard_parallel :</span></dt><dd>70.0</dd><dt><span>long_name :</span></dt><dd>NSIDC_NH_PolarStereo_25km</dd><dt><span>longitude_of_prime_meridian :</span></dt><dd>0.0</dd><dt><span>semi_major_axis :</span></dt><dd>6378273.0</dd><dt><span>inverse_flattening :</span></dt><dd>298.279411123064</dd><dt><span>proj4text :</span></dt><dd>+proj=stere +lat_0=90 +lat_ts=70 +lon_0=-45 +k=1 +x_0=0 +y_0=0 +a=6378273 +b=6356889.449 +units=m +no_defs</dd><dt><span>crs_wkt :</span></dt><dd>PROJCS[&quot;NSIDC Sea Ice Polar Stereographic North&quot;,GEOGCS[&quot;Unspecified datum based upon the Hughes 1980 ellipsoid&quot;,DATUM[&quot;Not_specified_based_on_Hughes_1980_ellipsoid&quot;,SPHEROID[&quot;Hughes 1980&quot;,6378273,298.279411123061,AUTHORITY[&quot;EPSG&quot;,&quot;7058&quot;]],AUTHORITY[&quot;EPSG&quot;,&quot;6054&quot;]],PRIMEM[&quot;Greenwich&quot;,0,AUTHORITY[&quot;EPSG&quot;,&quot;8901&quot;]],UNIT[&quot;degree&quot;,0.0174532925199433,AUTHORITY[&quot;EPSG&quot;,&quot;9122&quot;]],AUTHORITY[&quot;EPSG&quot;,&quot;4054&quot;]],PROJECTION[&quot;Polar_Stereographic&quot;],PARAMETER[&quot;latitude_of_origin&quot;,70],PARAMETER[&quot;central_meridian&quot;,-45],PARAMETER[&quot;scale_factor&quot;,1],PARAMETER[&quot;false_easting&quot;,0],PARAMETER[&quot;false_northing&quot;,0],UNIT[&quot;metre&quot;,1,AUTHORITY[&quot;EPSG&quot;,&quot;9001&quot;]],AXIS[&quot;X&quot;,EAST],AXIS[&quot;Y&quot;,NORTH],AUTHORITY[&quot;EPSG&quot;,&quot;3411&quot;]]</dd><dt><span>spatial_ref :</span></dt><dd>PROJCS[&quot;NSIDC Sea Ice Polar Stereographic North&quot;,GEOGCS[&quot;Unspecified datum based upon the Hughes 1980 ellipsoid&quot;,DATUM[&quot;Not_specified_based_on_Hughes_1980_ellipsoid&quot;,SPHEROID[&quot;Hughes 1980&quot;,6378273,298.279411123061,AUTHORITY[&quot;EPSG&quot;,&quot;7058&quot;]],AUTHORITY[&quot;EPSG&quot;,&quot;6054&quot;]],PRIMEM[&quot;Greenwich&quot;,0,AUTHORITY[&quot;EPSG&quot;,&quot;8901&quot;]],UNIT[&quot;degree&quot;,0.0174532925199433,AUTHORITY[&quot;EPSG&quot;,&quot;9122&quot;]],AUTHORITY[&quot;EPSG&quot;,&quot;4054&quot;]],PROJECTION[&quot;Polar_Stereographic&quot;],PARAMETER[&quot;latitude_of_origin&quot;,70],PARAMETER[&quot;central_meridian&quot;,-45],PARAMETER[&quot;scale_factor&quot;,1],PARAMETER[&quot;false_easting&quot;,0],PARAMETER[&quot;false_northing&quot;,0],UNIT[&quot;metre&quot;,1,AUTHORITY[&quot;EPSG&quot;,&quot;9001&quot;]],AXIS[&quot;X&quot;,EAST],AXIS[&quot;Y&quot;,NORTH],AUTHORITY[&quot;EPSG&quot;,&quot;3411&quot;]]</dd><dt><span>srid :</span></dt><dd>urn:ogc:def:crs:EPSG::3411</dd><dt><span>GeoTransform :</span></dt><dd>-3850000 25000 0 5850000 0 -25000</dd></dl></div><div class='xr-var-data'><pre>[1 values with dtype=int32]</pre></div></li><li class='xr-var-item'><div class='xr-var-name'><span>cell_area</span></div><div class='xr-var-dims'>(y, x)</div><div class='xr-var-dtype'>float64</div><div class='xr-var-preview xr-preview'>...</div><input id='attrs-27b78953-f904-4482-a150-3b9fe1798aa6' class='xr-var-attrs-in' type='checkbox' ><label for='attrs-27b78953-f904-4482-a150-3b9fe1798aa6' title='Show/Hide attributes'><svg class='icon xr-icon-file-text2'><use xlink:href='#icon-file-text2'></use></svg></label><input id='data-67543123-f787-46e7-b935-eb6ce7002c7f' class='xr-var-data-in' type='checkbox'><label for='data-67543123-f787-46e7-b935-eb6ce7002c7f' title='Show/Hide data repr'><svg class='icon xr-icon-database'><use xlink:href='#icon-database'></use></svg></label><div class='xr-var-attrs'><dl class='xr-attrs'><dt><span>grid_mapping :</span></dt><dd>crs</dd><dt><span>units :</span></dt><dd>meters^2</dd><dt><span>comment :</span></dt><dd>Surface area of grid cell</dd><dt><span>standard_name :</span></dt><dd>cell_area</dd><dt><span>long_name :</span></dt><dd>Grid Cell area</dd><dt><span>valid_range :</span></dt><dd>[3.82658854e+08 6.64448303e+08]</dd><dt><span>coverage_content_type :</span></dt><dd>image</dd></dl></div><div class='xr-var-data'><pre>[136192 values with dtype=float64]</pre></div></li></ul></div></li><li class='xr-section-item'><input id='section-d21dc9d8-c776-4d0c-90d3-8cee36655fbb' class='xr-section-summary-in' type='checkbox'  ><label for='section-d21dc9d8-c776-4d0c-90d3-8cee36655fbb' class='xr-section-summary' >Indexes: <span>(2)</span></label><div class='xr-section-inline-details'></div><div class='xr-section-details'><ul class='xr-var-list'><li class='xr-var-item'><div class='xr-index-name'><div>x</div></div><div class='xr-index-preview'>PandasIndex</div><div></div><input id='index-24e60b3f-591c-4393-b822-3c1223848c45' class='xr-index-data-in' type='checkbox'/><label for='index-24e60b3f-591c-4393-b822-3c1223848c45' title='Show/Hide index repr'><svg class='icon xr-icon-database'><use xlink:href='#icon-database'></use></svg></label><div class='xr-index-data'><pre>PandasIndex(Float64Index([-3837500.0, -3812500.0, -3787500.0, -3762500.0, -3737500.0,\n",
       "              -3712500.0, -3687500.0, -3662500.0, -3637500.0, -3612500.0,\n",
       "              ...\n",
       "               3512500.0,  3537500.0,  3562500.0,  3587500.0,  3612500.0,\n",
       "               3637500.0,  3662500.0,  3687500.0,  3712500.0,  3737500.0],\n",
       "             dtype=&#x27;float64&#x27;, name=&#x27;x&#x27;, length=304))</pre></div></li><li class='xr-var-item'><div class='xr-index-name'><div>y</div></div><div class='xr-index-preview'>PandasIndex</div><div></div><input id='index-326ccdcd-37d5-4a67-8ca8-959296cfd4cf' class='xr-index-data-in' type='checkbox'/><label for='index-326ccdcd-37d5-4a67-8ca8-959296cfd4cf' title='Show/Hide index repr'><svg class='icon xr-icon-database'><use xlink:href='#icon-database'></use></svg></label><div class='xr-index-data'><pre>PandasIndex(Float64Index([ 5837500.0,  5812500.0,  5787500.0,  5762500.0,  5737500.0,\n",
       "               5712500.0,  5687500.0,  5662500.0,  5637500.0,  5612500.0,\n",
       "              ...\n",
       "              -5112500.0, -5137500.0, -5162500.0, -5187500.0, -5212500.0,\n",
       "              -5237500.0, -5262500.0, -5287500.0, -5312500.0, -5337500.0],\n",
       "             dtype=&#x27;float64&#x27;, name=&#x27;y&#x27;, length=448))</pre></div></li></ul></div></li><li class='xr-section-item'><input id='section-ea92aca9-367d-46fe-a01a-b0eb1b503e6b' class='xr-section-summary-in' type='checkbox'  ><label for='section-ea92aca9-367d-46fe-a01a-b0eb1b503e6b' class='xr-section-summary' >Attributes: <span>(38)</span></label><div class='xr-section-inline-details'></div><div class='xr-section-details'><dl class='xr-attrs'><dt><span>title :</span></dt><dd>Polar Stereo Ancillary Grid Information</dd><dt><span>summary :</span></dt><dd>This data set provides the total on-Earth surface area and the the latitude and longitude values at the center of each grid cell of the 6.25km, 12.5km, and 25km polar stereographic gridded data sets distributed by The National Snow and Ice Data Center</dd><dt><span>id :</span></dt><dd>10.5067/N6INPBT8Y104</dd><dt><span>metadata_link :</span></dt><dd>https://doi.org/10.5067/N6INPBT8Y104</dd><dt><span>license :</span></dt><dd>Access Constraint: These data are freely, openly, and fully accessible, provided that you are logged into your NASA Earthdata profile (https://urs.earthdata.nasa.gov/);  Use Constraint: These data are freely, openly, and fully available to use without restrictions, provided that you cite the data according to the recommended citation at https://nsidc.org/about/use_copyright.html. For more information on the NASA EOSDIS Data Use Policy, see https://earthdata.nasa.gov/earth-observation-data/data-use-policy.</dd><dt><span>acknowledgment :</span></dt><dd>These data are produced and supported by the NASA National Snow and Ice Data Center Distributed Active Archive Center.</dd><dt><span>date_metadata_modified :</span></dt><dd>2022-03-21</dd><dt><span>keywords :</span></dt><dd>EARTH SCIENCE SERVICES &gt; DATA ANALYSIS AND VISUALIZATION &gt; GEOGRAPHIC INFORMATION SYSTEMS</dd><dt><span>date_created :</span></dt><dd>2022-03-21</dd><dt><span>date_modified :</span></dt><dd>2022-03-21</dd><dt><span>citation :</span></dt><dd></dd><dt><span>Conventions :</span></dt><dd>CF-1.6, ACDD-1.3</dd><dt><span>naming_authority :</span></dt><dd>org.doi.dx</dd><dt><span>keywords_vocabulary :</span></dt><dd>NASA Global Change Master Directory (GCMD) Earth Science Keywords, Version 8.1</dd><dt><span>standard_name_vocabulary :</span></dt><dd>CF Standard Name Table (v77, 19 January 2021)</dd><dt><span>institution :</span></dt><dd>NASA National Snow and Ice Data Center Distributed Active Archive Center</dd><dt><span>contributor_name :</span></dt><dd>J. Scott Stewart, Walter N. Meier, Donna J. Scott</dd><dt><span>contributor_role :</span></dt><dd>Scientific Programmer, Project Scientist, Project Lead</dd><dt><span>program :</span></dt><dd>NASA Earth Science Data and Information System (ESDIS)</dd><dt><span>publisher_name :</span></dt><dd>NASA National Snow and Ice Data Center Distributed Active Archive Center</dd><dt><span>publisher_institution :</span></dt><dd>National Snow and Ice Data Center; Cooperative Institute for Research in Environmental Sciences; University of Colorado at Boulder; Boulder, CO</dd><dt><span>publisher_type :</span></dt><dd>institution</dd><dt><span>publisher_url :</span></dt><dd>https://nsidc.org/daac</dd><dt><span>publisher_email :</span></dt><dd>nsidc@nsidc.org</dd><dt><span>cdm_data_type :</span></dt><dd>grid</dd><dt><span>geospatial_bounds :</span></dt><dd>POLYGON ((-3850000 5850000, 3750000 5850000, 3750000 -5350000, -3850000 -5350000, -3850000 5850000))</dd><dt><span>geospatial_bounds_crs :</span></dt><dd>EPSG:3411</dd><dt><span>geospatial_x_units :</span></dt><dd>meters</dd><dt><span>geospatial_y_units :</span></dt><dd>meters</dd><dt><span>geospatial_x_resolution :</span></dt><dd>25000 meters</dd><dt><span>geospatial_y_resolution :</span></dt><dd>25000 meters</dd><dt><span>geospatial_lat_min :</span></dt><dd>30.980564</dd><dt><span>geospatial_lat_max :</span></dt><dd>90.0</dd><dt><span>geospatial_lon_min :</span></dt><dd>-180.0</dd><dt><span>geospatial_lon_max :</span></dt><dd>180.0</dd><dt><span>geospatial_lat_units :</span></dt><dd>degrees_north</dd><dt><span>geospatial_lon_units :</span></dt><dd>degrees_east</dd><dt><span>product_version :</span></dt><dd>1.0</dd></dl></div></li></ul></div></div>"
      ],
      "text/plain": [
       "<xarray.Dataset>\n",
       "Dimensions:    (x: 304, y: 448)\n",
       "Coordinates:\n",
       "  * x          (x) float64 -3.838e+06 -3.812e+06 ... 3.712e+06 3.738e+06\n",
       "  * y          (y) float64 5.838e+06 5.812e+06 ... -5.312e+06 -5.338e+06\n",
       "Data variables:\n",
       "    crs        int32 ...\n",
       "    cell_area  (y, x) float64 ...\n",
       "Attributes: (12/38)\n",
       "    title:                     Polar Stereo Ancillary Grid Information\n",
       "    summary:                   This data set provides the total on-Earth surf...\n",
       "    id:                        10.5067/N6INPBT8Y104\n",
       "    metadata_link:             https://doi.org/10.5067/N6INPBT8Y104\n",
       "    license:                   Access Constraint: These data are freely, open...\n",
       "    acknowledgment:            These data are produced and supported by the N...\n",
       "    ...                        ...\n",
       "    geospatial_lat_max:        90.0\n",
       "    geospatial_lon_min:        -180.0\n",
       "    geospatial_lon_max:        180.0\n",
       "    geospatial_lat_units:      degrees_north\n",
       "    geospatial_lon_units:      degrees_east\n",
       "    product_version:           1.0"
      ]
     },
     "execution_count": 16,
     "metadata": {},
     "output_type": "execute_result"
    }
   ],
   "source": [
    "grid_area"
   ]
  },
  {
   "cell_type": "code",
   "execution_count": 6,
   "id": "b96f69f3",
   "metadata": {
    "ExecuteTime": {
     "end_time": "2023-08-11T16:30:49.248263Z",
     "start_time": "2023-08-11T16:30:49.235498Z"
    }
   },
   "outputs": [],
   "source": [
    "# Get grid values from SIC data\n",
    "xgrid = ds['xgrid'].values\n",
    "ygrid = ds['ygrid'].values\n",
    "\n",
    "# Get min and max of SIC\n",
    "xmax, xmin, ymax, ymin = np.max(xgrid), np.min(xgrid), np.max(ygrid), np.min(ygrid)\n",
    "\n",
    "# Subset grid area to match SIC data grids\n",
    "sub_area = grid_area.sel(x=slice(xmin, xmax), y=slice(ymax, ymin))"
   ]
  },
  {
   "cell_type": "markdown",
   "id": "26994d60",
   "metadata": {
    "ExecuteTime": {
     "end_time": "2023-08-09T22:02:19.567641Z",
     "start_time": "2023-08-09T22:02:19.562242Z"
    }
   },
   "source": [
    "### Adding the grid areas  to the data set"
   ]
  },
  {
   "cell_type": "code",
   "execution_count": 7,
   "id": "f0128ec4",
   "metadata": {
    "ExecuteTime": {
     "end_time": "2023-08-11T16:31:28.600726Z",
     "start_time": "2023-08-11T16:31:28.575131Z"
    }
   },
   "outputs": [],
   "source": [
    "# Add grid area to the dataset\n",
    "cell_area = sub_area.cell_area.values\n",
    "ds['area'] = (('ygrid', 'xgrid'), cell_area)"
   ]
  },
  {
   "cell_type": "markdown",
   "id": "8998f1fd",
   "metadata": {},
   "source": [
    "### Calculating Sea ice area and extent"
   ]
  },
  {
   "cell_type": "code",
   "execution_count": 17,
   "id": "64935d87",
   "metadata": {
    "ExecuteTime": {
     "end_time": "2023-08-11T16:33:17.913269Z",
     "start_time": "2023-08-11T16:33:17.889795Z"
    }
   },
   "outputs": [
    {
     "name": "stdout",
     "output_type": "stream",
     "text": [
      "Sea Ice Area (km^2):  11105290.184104066\n",
      "Sea Ice Extent (km^2): 12391285.84189521\n"
     ]
    }
   ],
   "source": [
    "# Subset the dataset to exclude flag values\n",
    "seaice_ds = ds.where(ds.cdr_seaice_conc_monthly <= 1)\n",
    "\n",
    "# Compute sea ice area\n",
    "icearea = seaice_ds.area * seaice_ds.cdr_seaice_conc_monthly[0][:] \n",
    "\n",
    "# Convert the unit from m^2 to km^2\n",
    "tot_icearea = np.sum(icearea) /1000000  \n",
    "print(\"Sea Ice Area (km^2): \", tot_icearea.item())\n",
    "\n",
    "# Compute sea ice extent\n",
    "ext = seaice_ds.area * xr.where(seaice_ds.cdr_seaice_conc_monthly[0][:] < 0.15, 0, 1)\n",
    "extent = np.sum(ext)/1000000 \n",
    "print(\"Sea Ice Extent (km^2):\", extent.item())"
   ]
  },
  {
   "cell_type": "markdown",
   "id": "1024090b",
   "metadata": {},
   "source": [
    "## Working with 12 month time series\n",
    "\n",
    "The next exercise is to download 12 time step (12 months) sea ice concentration data and compute sea ice area and extent for each month.\n",
    "\n",
    "The modified url :\n",
    "\n",
    "<code>url=\"https:\\/\\/polarwatch.noaa.gov/erddap/griddap/nsidcG02202v4nhmday.nc?cdr_seaice_conc_monthly[(**2021-01-01T00:00:00Z**):1:( **2021-12-01T00:00:00Z** )][(4843696.04):1:(-4858210.64)][(-3850000.0):1:(3750000.0)]</code>"
   ]
  },
  {
   "cell_type": "code",
   "execution_count": 21,
   "id": "f1761c33",
   "metadata": {
    "ExecuteTime": {
     "end_time": "2023-08-11T19:32:19.356927Z",
     "start_time": "2023-08-11T19:32:18.028574Z"
    }
   },
   "outputs": [],
   "source": [
    "# Get 12 months data\n",
    "url=\"https://polarwatch.noaa.gov/erddap/griddap/nsidcG02202v4nhmday.nc?cdr_seaice_conc_monthly[(2021-01-01T00:00:00Z):1:(2021-12-01T00:00:00Z)][(4843696.04):1:(-4858210.64)][(-3850000.0):1:(3750000.0)]\"\n",
    "urllib.request.urlretrieve(url, \"sic12.nc\")\n",
    "\n",
    "# Open and assign data from the file to a variable ds using xarray\n",
    "ds = xr.open_dataset(\"sic12.nc\")\n",
    "\n",
    "# Add grid area to the dataset\n",
    "cell_area = sub_area.cell_area.values\n",
    "ds['area'] = (('ygrid', 'xgrid'), cell_area)\n",
    "\n",
    "# Subset the dataset to exclude flag values\n",
    "seaice_ds = ds.where(ds.cdr_seaice_conc_monthly <= 1)\n",
    "\n",
    "# Calculate sea ice area by month\n",
    "icearea = seaice_ds.area * seaice_ds.cdr_seaice_conc_monthly\n",
    "icea_month = icearea.sum(dim=['xgrid', 'ygrid']) / 1000000\n",
    "\n",
    "# Calculate sea ice extent by month\n",
    "ext = seaice_ds.area * xr.where(seaice_ds.cdr_seaice_conc_monthly < 0.15, 0, 1)\n",
    "extent = ext.sum(dim=['xgrid', 'ygrid']) / 1000000"
   ]
  },
  {
   "cell_type": "markdown",
   "id": "a25ff878",
   "metadata": {},
   "source": [
    "### Plotting monthly sea ice area and extent"
   ]
  },
  {
   "cell_type": "code",
   "execution_count": 22,
   "id": "c05972e0",
   "metadata": {
    "ExecuteTime": {
     "end_time": "2023-08-11T19:32:23.581311Z",
     "start_time": "2023-08-11T19:32:23.495609Z"
    }
   },
   "outputs": [
    {
     "data": {
      "image/png": "[encoded data removed]",
      "text/plain": [
       "<Figure size 640x480 with 1 Axes>"
      ]
     },
     "metadata": {},
     "output_type": "display_data"
    }
   ],
   "source": [
    "\n",
    "fig, ax = plt.subplots()\n",
    "\n",
    "# Plot the data as a line\n",
    "ax.plot(list(range(1, 13)), icea_month, label='Sea ice area', marker='o', linestyle='-')\n",
    "ax.plot(list(range(1, 13)), extent, label='Sea ice extent', marker='o', linestyle='-')\n",
    "\n",
    "# Add a title and labels\n",
    "ax.set_title('2021 Monthly Sea ice area and sea ice extent (km^2)')\n",
    "ax.set_xlabel('Month')\n",
    "ax.set_ylabel('Area (km^2)')\n",
    "\n",
    "# Display the legend\n",
    "ax.legend()\n",
    "\n",
    "# Show the plot\n",
    "plt.show()"
   ]
  }
 ],
 "metadata": {
  "kernelspec": {
   "display_name": "code_gallery",
   "language": "python",
   "name": "code_gallery"
  },
  "language_info": {
   "codemirror_mode": {
    "name": "ipython",
    "version": 3
   },
   "file_extension": ".py",
   "mimetype": "text/x-python",
   "name": "python",
   "nbconvert_exporter": "python",
   "pygments_lexer": "ipython3",
   "version": "3.11.3"
  }
 },
 "nbformat": 4,
 "nbformat_minor": 5
}
